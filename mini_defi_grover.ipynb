{
 "cells": [
  {
   "cell_type": "code",
   "execution_count": null,
   "metadata": {},
   "outputs": [],
   "source": [
    "# Pour rouler dans Google Colab, executez cette cellule en premier\n",
    "\n",
    "!git clone https://github.com/Algolab-Sherhack-2024/mini-defi-grover.git\n",
    "import sys\n",
    "sys.path.insert(0,'/content/sherhack_2024')\n",
    "!pip install -r sherhack_2024/requirements.txt"
   ]
  },
  {
   "cell_type": "markdown",
   "metadata": {},
   "source": [
    "# Algorithme de Grover\n",
    "\n",
    "L'algorithme de Grover est souvent présenté comme offrant un avantage quadratique pour effectuer une recherche dans une **base de données non-ordonnée**."
   ]
  },
  {
   "cell_type": "markdown",
   "metadata": {},
   "source": [
    "## Apprendre l'algorithme de Grover\n",
    "\n",
    "Regardez attentivement les deux vidéos sur l'algorithme de Grover dans le cadre des **Énigmes Quantiques**. Prenez des notes si nécessaire.\n",
    "\n",
    "- Vidéo 1 : [Algorithme de Grover - Énigmes Quantiques](https://www.usherbrooke.ca/iq/enigmesquantiques/#Algo002)\n",
    "  Cette vidéo introduit Grover avec un circuit très basique (seulement 2 qubits), ce qui le rend facile à reproduire et à comprendre étape par étape.\n",
    "\n",
    "\n",
    "- Vidéo 2 : [Grover et le problème SAT - Énigmes Quantiques](https://www.usherbrooke.ca/iq/enigmesquantiques/#Algo003) \n",
    "  Appliquez l'algorithm Grover mais cette fois avec un problème différent (13 qubits) et de nouvelles notions sur la construction des circuits."
   ]
  },
  {
   "cell_type": "markdown",
   "metadata": {},
   "source": [
    "## Défi : Résoudre une nouvelle énigme\n",
    "\n",
    "Réutilisez le circuit du la video 2 pour résoudre une nouvelle énigme (avec exactement le même nombre de qubits).\n",
    "\n",
    "Adaptez l'implémentation (le circuit dans le 2eme video) pour résoudre le problème similaire suivant :\n",
    "\n",
    "![Énigme Image](mini_defi_SAT_puzzle.png)\n",
    "\n",
    "\n",
    "### Résumé du défi :\n",
    "\n",
    "**Objectif** : Trouver la bonne combinaison pour les voyants de contrôle (C1, C2, C3, C4), c'est-à-dire l'affectation correcte de 0 (couleur orange) ou 1 (couleur indigo) pour chaque voyant de contrôle.\n",
    "\n",
    "**But** : Allumer tous les voyants disjoncteurs (D1, D2, ..., D8) avec la valeur 1 (couleur indigo) pour que le voyant principal (p) s'allume également avec la valeur 1 (couleur indigo). Lorsque cela se produit, le coffre s'ouvre.\n",
    "\n",
    "**Tous les détails du défi sont bien expliqués dans la vidéo 2.**\n",
    "  \n",
    "\n",
    "**Conseil :** \n",
    "\n",
    "N’hésitez pas à tester différentes configurations, comme le nombre d'itérations de l'algorithme (nombre d'applications de l'oracle et de l'opérateur de diffusion), pour observer l'impact sur les résultats."
   ]
  },
  {
   "cell_type": "markdown",
   "metadata": {},
   "source": [
    "---"
   ]
  },
  {
   "cell_type": "markdown",
   "metadata": {},
   "source": [
    "  \n",
    "## Fonctions d'Aide pour vos Implémentations\n",
    "\n",
    "Vous pouvez utiliser les fonctions suivantes dans vos implémentations pour simplifier certaines étapes.\n",
    "\n"
   ]
  },
  {
   "attachments": {},
   "cell_type": "markdown",
   "metadata": {},
   "source": [
    "### Importer les bibliothèques nécessaires"
   ]
  },
  {
   "cell_type": "code",
   "execution_count": null,
   "metadata": {},
   "outputs": [],
   "source": [
    "from qiskit import QuantumCircuit\n",
    "from qiskit import transpile\n",
    "from qiskit_aer import AerSimulator\n",
    "\n",
    "from qiskit.visualization import plot_histogram\n",
    "from qiskit.circuit.library import XGate, ZGate\n",
    "\n",
    "from typing import Dict"
   ]
  },
  {
   "cell_type": "markdown",
   "metadata": {},
   "source": [
    "### Instructions de base nécessaires :\n",
    "- Portes quantiques : NOT (X), Hadamard (H), Z, contrôle-Z (CZ)\n",
    "- Mesure\n",
    "- Visualisation\n",
    "\n",
    "Voici un exemple simple pour illustrer les opérations de base :"
   ]
  },
  {
   "cell_type": "code",
   "execution_count": null,
   "metadata": {},
   "outputs": [],
   "source": [
    "# Générer un circuit simple avec les portes : X, H, Z et CZ\n",
    "\n",
    "# 1) Créer un nouveau circuit avec deux qubits\n",
    "circuit = QuantumCircuit(2)\n",
    "\n",
    "# 2) Ajouter des portes de base\n",
    "circuit.x(0)  # Ajouter une porte X (NOT) sur le qubit 0\n",
    "circuit.h(1)  # Ajouter une porte H sur le qubit 1\n",
    "circuit.z(0)  # Ajouter une porte Z sur le qubit 0\n",
    "circuit.cz(0, 1)  # Effectuer une porte contrôlée-Z sur le qubit 1, contrôlée par le qubit 0\n",
    "\n",
    "# 3) Mesurer tous les qubits\n",
    "circuit.measure_all()  # Mesurer tous les qubits et stocker les résultats sur des bits classiques\n",
    "\n",
    "# 4) Visualisation\n",
    "circuit.draw(\n",
    "    \"mpl\"\n",
    ")  # Dessiner le circuit en utilisant Matplotlib (\"mpl\"). Retirer l'argument \"mpl\" pour obtenir un dessin textuel."
   ]
  },
  {
   "cell_type": "markdown",
   "metadata": {},
   "source": [
    "### L'exécution d'un circuit sur un simulateur"
   ]
  },
  {
   "cell_type": "code",
   "execution_count": 10,
   "metadata": {},
   "outputs": [],
   "source": [
    "from qiskit_ibm_runtime import SamplerV2 as Sampler\n",
    "\n",
    "\n",
    "def run_circuit_on_simulator(input_circuit: QuantumCircuit, num_shots: int = 1_000) -> Dict[str, int]:\n",
    "    \"\"\"\n",
    "    Exécute un circuit quantique sur le simulateur Aer en utilisant le primitive Sampler et renvoie les résultats des mesures.\n",
    "\n",
    "    Arguments:\n",
    "        input_circuit (QuantumCircuit): Le circuit quantique à simuler\n",
    "        num_shots (int): Nombre de répétitions de la simulation (par défaut: 1 000)\n",
    "\n",
    "    Retourne:\n",
    "        Dict[str, int]: Dictionnaire contenant les résultats des mesures, où:\n",
    "            - les clés sont les états quantiques mesurés (par ex., '00', '01', '10', '11')\n",
    "            - les valeurs sont le nombre de fois que chaque état a été mesuré\n",
    "\n",
    "    Exemple:\n",
    "        circuit = QuantumCircuit(2)  # Créer un circuit avec 2 qubits\n",
    "        resultats = run_circuit_(circuit, num_shots=1000)\n",
    "        # les résultats pourraient ressembler à: {'00': 500, '01': 250, '10': 150, '11': 100}\n",
    "    \"\"\"\n",
    "    # Créer une instance de backend local utilisant AerSimulator\n",
    "    backend = AerSimulator()\n",
    "\n",
    "    # Initialiser la primitive Sampler avec le backend local\n",
    "    # Sampler est une interface de haut niveau pour exécuter des circuits quantiques\n",
    "    # qui gère automatiquement l'optimisation et l'exécution du circuit\n",
    "    sampler = Sampler(mode=backend)\n",
    "\n",
    "    # Exécuter le circuit en utilisant le sampler\n",
    "    # Le sampler accepte une liste de circuits et renvoie les résultats correspondants\n",
    "    job = sampler.run([input_circuit], shots=num_shots)\n",
    "\n",
    "    # Obtenir les résultats du job terminé\n",
    "    job_result = job.result()\n",
    "\n",
    "    # Extraire et renvoyer les comptages de mesure des résultats\n",
    "    # L'index [0] accède aux résultats du premier (et unique) circuit\n",
    "    counts = job_result[0].data.meas.get_counts()\n",
    "\n",
    "    return counts"
   ]
  },
  {
   "cell_type": "code",
   "execution_count": 11,
   "metadata": {},
   "outputs": [],
   "source": [
    "counts = run_circuit_on_simulator(circuit)"
   ]
  },
  {
   "cell_type": "markdown",
   "metadata": {},
   "source": [
    "### Affichage de l'histogramme des comptes\n",
    "Afficher les resultat de l'execution "
   ]
  },
  {
   "cell_type": "code",
   "execution_count": null,
   "metadata": {},
   "outputs": [],
   "source": [
    "plot_histogram(counts)"
   ]
  },
  {
   "cell_type": "markdown",
   "metadata": {},
   "source": [
    "# Combinaison de deux circuits"
   ]
  },
  {
   "cell_type": "code",
   "execution_count": 14,
   "metadata": {},
   "outputs": [],
   "source": [
    "def generate_circuit_A(nb_qubits):\n",
    "    circuit = QuantumCircuit(nb_qubits)\n",
    "    circuit.x(range(nb_qubits))  # Appliquer la porte X sur tous les qubits\n",
    "    return circuit\n",
    "\n",
    "\n",
    "def generate_circuit_B(nb_qubits):\n",
    "    circuit = QuantumCircuit(nb_qubits)\n",
    "    circuit.z(range(nb_qubits))  # Appliquer la porte Z sur tous les qubits\n",
    "    return circuit"
   ]
  },
  {
   "cell_type": "code",
   "execution_count": null,
   "metadata": {},
   "outputs": [],
   "source": [
    "# Circuit principal :\n",
    "nb_qubits = 2\n",
    "main_circuit = QuantumCircuit(nb_qubits)\n",
    "main_circuit.h([0, 1])\n",
    "main_circuit.barrier()  # une barrière visuelle pour mieux voir le bloc (couche) du circuit\n",
    "\n",
    "qc_a = generate_circuit_A(nb_qubits)\n",
    "qc_b = generate_circuit_B(nb_qubits)\n",
    "\n",
    "\n",
    "main_circuit.append(qc_a, range(nb_qubits))\n",
    "\n",
    "main_circuit.barrier()\n",
    "\n",
    "main_circuit.append(qc_b, [0, 1])\n",
    "\n",
    "main_circuit.measure_all()\n",
    "\n",
    "main_circuit.draw(\"mpl\")  # ajouter decompose() pour voir plus de détails `main_circuit.decompose().draw('mpl')`"
   ]
  },
  {
   "cell_type": "markdown",
   "metadata": {},
   "source": [
    "# Porte X multi-contrôle"
   ]
  },
  {
   "cell_type": "code",
   "execution_count": null,
   "metadata": {},
   "outputs": [],
   "source": [
    "total_num_qubits = 4\n",
    "num_qubits_ctrl = 3\n",
    "ctrl_state = \"011\"  # Le bit le plus à droite correspond au qubit 0. len(ctrl_state) == num_qubits_ctrl\n",
    "qc = QuantumCircuit(total_num_qubits)\n",
    "\n",
    "# Créer une porte X multi-contrôle avec le bon nombre de qubits\n",
    "# Le nombre de qubits de contrôle est num_qubits_ctrl\n",
    "# La porte X sera appliquée sur le qubit après les qubits de contrôle.\n",
    "mc_xgate = XGate().control(num_ctrl_qubits=num_qubits_ctrl, ctrl_state=ctrl_state)\n",
    "\n",
    "qc.append(mc_xgate, range(total_num_qubits))\n",
    "\n",
    "qc.draw(\"mpl\")"
   ]
  },
  {
   "cell_type": "code",
   "execution_count": null,
   "metadata": {},
   "outputs": [],
   "source": [
    "qc.decompose().draw(\"mpl\")"
   ]
  },
  {
   "cell_type": "code",
   "execution_count": null,
   "metadata": {},
   "outputs": [],
   "source": []
  }
 ],
 "metadata": {
  "kernelspec": {
   "display_name": "qiskit",
   "language": "python",
   "name": "python3"
  },
  "language_info": {
   "codemirror_mode": {
    "name": "ipython",
    "version": 3
   },
   "file_extension": ".py",
   "mimetype": "text/x-python",
   "name": "python",
   "nbconvert_exporter": "python",
   "pygments_lexer": "ipython3",
   "version": "3.11.9"
  },
  "orig_nbformat": 4,
  "vscode": {
   "interpreter": {
    "hash": "81cfc0e50c93f82568610dccb22eae6eb90d80f5b8c4769a839926e4ff39b503"
   }
  }
 },
 "nbformat": 4,
 "nbformat_minor": 2
}
